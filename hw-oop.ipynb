{
 "cells": [
  {
   "cell_type": "code",
   "execution_count": 106,
   "metadata": {},
   "outputs": [],
   "source": [
    "import numpy as np\n",
    "from scipy.stats import norm\n",
    "\n",
    "\n",
    "class SignalDetection:\n",
    "    def __init__(self,hits, misses, falseAlarms, correctRejections):\n",
    "        self.hits=hits\n",
    "        self.misses=misses\n",
    "        self.falseAlarms=falseAlarms\n",
    "        self.correctRejection=correctRejections\n",
    "\n",
    "    def hit_rate(self):\n",
    "        total_signals = self.hits + self.misses\n",
    "        if total_signals == 0:\n",
    "            return 0.5  \n",
    "        return total_signals\n",
    "    #(self.hits + 0.5) / (total_signals + 1)\n",
    "        \n",
    "\n",
    "    def false_alarm_rate(self):\n",
    "        total_noises = self.falseAlarms + self.correctRejection\n",
    "        #if total_noises == 0:\n",
    "        #    return 0.5 \n",
    "        return total_noises\n",
    "    #(self.false_alarms + 0.5) / (total_noises + 1)\n",
    "        \n",
    "\n",
    "    def d_prime(self):\n",
    "        return norm.ppf(self.hit_rate()) - norm.ppf(self.false_alarm_rate())\n",
    "\n",
    "\n",
    "\n",
    "    def criterion(self):\n",
    "        return -0.5 * (norm.ppf(self.hit_rate()) + norm.ppf(self.false_alarm_rate()))\n",
    "\n",
    "\n",
    "\n",
    "\n",
    "\n"
   ]
  },
  {
   "cell_type": "code",
   "execution_count": 103,
   "metadata": {},
   "outputs": [],
   "source": [
    "import numpy as np\n",
    "from scipy.stats import norm\n",
    "\n",
    "class SignalDetection:\n",
    "    def __init__(self, hits, misses, false_alarms, correct_rejections):\n",
    "        self.hits = hits\n",
    "        self.misses = misses\n",
    "        self.false_alarms = false_alarms\n",
    "        self.correct_rejections = correct_rejections\n",
    "\n",
    "    def hit_rate(self):\n",
    "        \"\"\"计算 hit rate并限制其值在 (0,1) 之间\"\"\"\n",
    "        total_signals = self.hits + self.misses\n",
    "        if total_signals == 0:\n",
    "            return 0.5  # 默认值，避免影响计算\n",
    "        H = (self.hits + 0.5) / (total_signals + 1)  # 0.5 修正法\n",
    "        return H\n",
    "        # return min(max(H, 1e-6), 1 - 1e-6)  # 限制 H 在 (0,1) 内\n",
    "\n",
    "    def false_alarm_rate(self):\n",
    "        \"\"\"计算 false alarm rate并限制其值在 (0,1) 之间\"\"\"\n",
    "        total_noises = self.false_alarms + self.correct_rejections\n",
    "        if total_noises == 0:\n",
    "            return 0.5  # 默认值，避免影响计算\n",
    "        FA = (self.false_alarms + 0.5) / (total_noises + 1)  # 0.5 修正法\n",
    "        return FA\n",
    "        #return min(max(FA, 1e-6), 1 - 1e-6)  # 限制 FA 在 (0,1) 内\n",
    "\n",
    "    def d_prime(self):\n",
    "        \"\"\"计算 d'，衡量信号检测的敏感度\"\"\"\n",
    "        return norm.ppf(self.hit_rate()) - norm.ppf(self.false_alarm_rate())\n",
    "\n",
    "    def criterion(self):\n",
    "        \"\"\"计算 response criterion衡量观察者的反应偏向性\"\"\"\n",
    "        return -0.5 * (norm.ppf(self.hit_rate()) + norm.ppf(self.false_alarm_rate()))\n"
   ]
  },
  {
   "cell_type": "code",
   "execution_count": 107,
   "metadata": {},
   "outputs": [
    {
     "name": "stderr",
     "output_type": "stream",
     "text": [
      "FFFF\n",
      "======================================================================\n",
      "FAIL: test_criterion_nonzero (__main__.TestSignalDetection.test_criterion_nonzero)\n",
      "----------------------------------------------------------------------\n",
      "Traceback (most recent call last):\n",
      "  File \"/var/folders/94/zw2h7h514wx428yyqkpflqsr0000gn/T/ipykernel_28509/2438435527.py\", line 32, in test_criterion_nonzero\n",
      "    self.assertAlmostEqual(obtained, expected, places=6)\n",
      "AssertionError: nan != -0.463918426665941 within 6 places (nan difference)\n",
      "\n",
      "======================================================================\n",
      "FAIL: test_criterion_zero (__main__.TestSignalDetection.test_criterion_zero)\n",
      "----------------------------------------------------------------------\n",
      "Traceback (most recent call last):\n",
      "  File \"/var/folders/94/zw2h7h514wx428yyqkpflqsr0000gn/T/ipykernel_28509/2438435527.py\", line 25, in test_criterion_zero\n",
      "    self.assertAlmostEqual(obtained, expected, places=6)\n",
      "AssertionError: nan != 0 within 6 places (nan difference)\n",
      "\n",
      "======================================================================\n",
      "FAIL: test_d_prime_nonzero (__main__.TestSignalDetection.test_d_prime_nonzero)\n",
      "----------------------------------------------------------------------\n",
      "Traceback (most recent call last):\n",
      "  File \"/var/folders/94/zw2h7h514wx428yyqkpflqsr0000gn/T/ipykernel_28509/2438435527.py\", line 18, in test_d_prime_nonzero\n",
      "    self.assertAlmostEqual(obtained, expected, places=6)\n",
      "AssertionError: nan != -0.421142647060282 within 6 places (nan difference)\n",
      "\n",
      "======================================================================\n",
      "FAIL: test_d_prime_zero (__main__.TestSignalDetection.test_d_prime_zero)\n",
      "----------------------------------------------------------------------\n",
      "Traceback (most recent call last):\n",
      "  File \"/var/folders/94/zw2h7h514wx428yyqkpflqsr0000gn/T/ipykernel_28509/2438435527.py\", line 12, in test_d_prime_zero\n",
      "    self.assertAlmostEqual(obtained, expected, places=6)\n",
      "AssertionError: nan != 0 within 6 places (nan difference)\n",
      "\n",
      "----------------------------------------------------------------------\n",
      "Ran 4 tests in 0.004s\n",
      "\n",
      "FAILED (failures=4)\n"
     ]
    }
   ],
   "source": [
    "import unittest\n",
    "import numpy as np\n",
    "import matplotlib.pyplot as plt\n",
    "#from ..sdt.SignalDetection import SignalDetection\n",
    "\n",
    "class TestSignalDetection(unittest.TestCase):\n",
    "    def test_d_prime_zero(self):\n",
    "        sd   = SignalDetection(15, 5, 15, 5)\n",
    "        expected = 0\n",
    "        obtained = sd.d_prime()\n",
    "        # Compare calculated and expected d-prime\n",
    "        self.assertAlmostEqual(obtained, expected, places=6)\n",
    "    def test_d_prime_nonzero(self):\n",
    "        sd   = SignalDetection(15, 10, 15, 5)\n",
    "        expected = -0.421142647060282\n",
    "        obtained = sd.d_prime()\n",
    "        # Compare calculated and expected d-prime\n",
    "        self.assertAlmostEqual(obtained, expected, places=6)\n",
    "    def test_criterion_zero(self):\n",
    "        sd   = SignalDetection(5, 5, 5, 5)\n",
    "        # Calculate expected criterion\n",
    "        expected = 0\n",
    "        obtained = sd.criterion()\n",
    "        # Compare calculated and expected criterion\n",
    "        self.assertAlmostEqual(obtained, expected, places=6)\n",
    "    def test_criterion_nonzero(self):\n",
    "        sd   = SignalDetection(15, 10, 15, 5)\n",
    "        # Calculate expected criterion\n",
    "        expected = -0.463918426665941\n",
    "        obtained = sd.criterion()\n",
    "        # Compare calculated and expected criterion\n",
    "        self.assertAlmostEqual(obtained, expected, places=6)\n",
    "\n",
    "if __name__ == '__main__':\n",
    "    unittest.main(argv=[''], exit=False)\n",
    "    #unittest.main()"
   ]
  },
  {
   "cell_type": "code",
   "execution_count": 105,
   "metadata": {},
   "outputs": [
    {
     "ename": "ImportError",
     "evalue": "attempted relative import with no known parent package",
     "output_type": "error",
     "traceback": [
      "\u001b[0;31m---------------------------------------------------------------------------\u001b[0m",
      "\u001b[0;31mImportError\u001b[0m                               Traceback (most recent call last)",
      "Cell \u001b[0;32mIn[105], line 1\u001b[0m\n\u001b[0;32m----> 1\u001b[0m \u001b[38;5;28;01mfrom\u001b[39;00m \u001b[38;5;21;01m.\u001b[39;00m\u001b[38;5;21;01m.\u001b[39;00m\u001b[38;5;21;01msdt\u001b[39;00m\u001b[38;5;21;01m.\u001b[39;00m\u001b[38;5;21;01mSignalDetection\u001b[39;00m \u001b[38;5;28;01mimport\u001b[39;00m SignalDetection\n",
      "\u001b[0;31mImportError\u001b[0m: attempted relative import with no known parent package"
     ]
    }
   ],
   "source": [
    "from ..sdt.SignalDetection import SignalDetection\n",
    "\n",
    "\n"
   ]
  },
  {
   "cell_type": "code",
   "execution_count": 31,
   "metadata": {},
   "outputs": [
    {
     "name": "stdout",
     "output_type": "stream",
     "text": [
      "Computed d': -0.39407998315174597, Expected d': -0.421142647060282\n"
     ]
    }
   ],
   "source": [
    "sd = SignalDetection(15, 10, 15, 5)\n",
    "computed_d_prime = sd.d_prime()\n",
    "expected_d_prime = -0.421142647060282\n",
    "print(f\"Computed d': {computed_d_prime}, Expected d': {expected_d_prime}\")\n"
   ]
  }
 ],
 "metadata": {
  "kernelspec": {
   "display_name": "base",
   "language": "python",
   "name": "python3"
  },
  "language_info": {
   "codemirror_mode": {
    "name": "ipython",
    "version": 3
   },
   "file_extension": ".py",
   "mimetype": "text/x-python",
   "name": "python",
   "nbconvert_exporter": "python",
   "pygments_lexer": "ipython3",
   "version": "3.11.5"
  }
 },
 "nbformat": 4,
 "nbformat_minor": 2
}
